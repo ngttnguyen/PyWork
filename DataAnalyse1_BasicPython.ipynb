{
 "cells": [
  {
   "cell_type": "markdown",
   "metadata": {},
   "source": [
    "# Data Analyse"
   ]
  },
  {
   "cell_type": "markdown",
   "metadata": {},
   "source": [
    "#  Basic python"
   ]
  },
  {
   "cell_type": "code",
   "execution_count": 3,
   "metadata": {},
   "outputs": [
    {
     "name": "stdout",
     "output_type": "stream",
     "text": [
      "{<class 'dict'>, <class 'tuple'>, <class 'list'>}\n"
     ]
    }
   ],
   "source": [
    "d = {}\n",
    "l = ()\n",
    "ll = list()\n",
    "print({type(d),type(l), type(ll)})"
   ]
  },
  {
   "cell_type": "markdown",
   "metadata": {},
   "source": [
    "# Dictionary"
   ]
  },
  {
   "cell_type": "code",
   "execution_count": 4,
   "metadata": {
    "collapsed": true
   },
   "outputs": [
    {
     "name": "stdout",
     "output_type": "stream",
     "text": [
      "{<class 'dict'>, <class 'list'>}\n"
     ]
    }
   ],
   "source": [
    "d1 = dict()\n",
    "l1 = list()\n",
    "print({type(d1), type(l1)})"
   ]
  },
  {
   "cell_type": "code",
   "execution_count": 6,
   "metadata": {
    "collapsed": true
   },
   "outputs": [
    {
     "data": {
      "text/plain": [
       "{'apple': 100, 'grape': 200}"
      ]
     },
     "execution_count": 6,
     "metadata": {},
     "output_type": "execute_result"
    }
   ],
   "source": [
    "d1 = dict()\n",
    "d1[\"apple\"] = 100\n",
    "d1[\"grape\"] = 200\n",
    "d1"
   ]
  },
  {
   "cell_type": "code",
   "execution_count": 9,
   "metadata": {
    "collapsed": true
   },
   "outputs": [
    {
     "name": "stdout",
     "output_type": "stream",
     "text": [
      "100\n",
      "100\n"
     ]
    }
   ],
   "source": [
    "print(d1[\"apple\"])\n",
    "print(d1.get(\"apple\"))"
   ]
  },
  {
   "cell_type": "code",
   "execution_count": 13,
   "metadata": {
    "collapsed": true
   },
   "outputs": [
    {
     "ename": "KeyError",
     "evalue": "'banana'",
     "output_type": "error",
     "traceback": [
      "\u001b[1;31m---------------------------------------------------------------------------\u001b[0m",
      "\u001b[1;31mKeyError\u001b[0m                                  Traceback (most recent call last)",
      "\u001b[1;32m<ipython-input-13-131d4a463116>\u001b[0m in \u001b[0;36m<module>\u001b[1;34m\u001b[0m\n\u001b[1;32m----> 1\u001b[1;33m \u001b[0md1\u001b[0m\u001b[1;33m[\u001b[0m\u001b[1;34m\"banana\"\u001b[0m\u001b[1;33m]\u001b[0m\u001b[1;33m\u001b[0m\u001b[1;33m\u001b[0m\u001b[0m\n\u001b[0m\u001b[0;32m      2\u001b[0m \u001b[0md1\u001b[0m\u001b[1;33m.\u001b[0m\u001b[0mget\u001b[0m\u001b[1;33m(\u001b[0m\u001b[1;34m\"banana\"\u001b[0m\u001b[1;33m,\u001b[0m\u001b[1;34m\"not found\"\u001b[0m\u001b[1;33m)\u001b[0m\u001b[1;33m\u001b[0m\u001b[1;33m\u001b[0m\u001b[0m\n",
      "\u001b[1;31mKeyError\u001b[0m: 'banana'"
     ]
    }
   ],
   "source": [
    "d1[\"banana\"]\n",
    "d1.get(\"banana\",\"not found\")"
   ]
  },
  {
   "cell_type": "code",
   "execution_count": 20,
   "metadata": {
    "collapsed": true
   },
   "outputs": [
    {
     "ename": "KeyError",
     "evalue": "'apple'",
     "output_type": "error",
     "traceback": [
      "\u001b[1;31m---------------------------------------------------------------------------\u001b[0m",
      "\u001b[1;31mKeyError\u001b[0m                                  Traceback (most recent call last)",
      "\u001b[1;32m<ipython-input-20-726dab505f4a>\u001b[0m in \u001b[0;36m<module>\u001b[1;34m\u001b[0m\n\u001b[1;32m----> 1\u001b[1;33m \u001b[0md1\u001b[0m\u001b[1;33m.\u001b[0m\u001b[0mpop\u001b[0m\u001b[1;33m(\u001b[0m\u001b[1;34m\"apple\"\u001b[0m\u001b[1;33m)\u001b[0m\u001b[1;33m\u001b[0m\u001b[1;33m\u001b[0m\u001b[0m\n\u001b[0m\u001b[0;32m      2\u001b[0m \u001b[0md1\u001b[0m\u001b[1;33m\u001b[0m\u001b[1;33m\u001b[0m\u001b[0m\n",
      "\u001b[1;31mKeyError\u001b[0m: 'apple'"
     ]
    }
   ],
   "source": [
    "d1.pop(\"apple\")\n",
    "d1"
   ]
  },
  {
   "cell_type": "code",
   "execution_count": 19,
   "metadata": {
    "collapsed": true
   },
   "outputs": [
    {
     "ename": "KeyError",
     "evalue": "'grape'",
     "output_type": "error",
     "traceback": [
      "\u001b[1;31m---------------------------------------------------------------------------\u001b[0m",
      "\u001b[1;31mKeyError\u001b[0m                                  Traceback (most recent call last)",
      "\u001b[1;32m<ipython-input-19-6941c6a83256>\u001b[0m in \u001b[0;36m<module>\u001b[1;34m\u001b[0m\n\u001b[1;32m----> 1\u001b[1;33m \u001b[1;32mdel\u001b[0m \u001b[0md1\u001b[0m\u001b[1;33m[\u001b[0m\u001b[1;34m\"grape\"\u001b[0m\u001b[1;33m]\u001b[0m\u001b[1;33m\u001b[0m\u001b[1;33m\u001b[0m\u001b[0m\n\u001b[0m\u001b[0;32m      2\u001b[0m \u001b[0md1\u001b[0m\u001b[1;33m\u001b[0m\u001b[1;33m\u001b[0m\u001b[0m\n",
      "\u001b[1;31mKeyError\u001b[0m: 'grape'"
     ]
    }
   ],
   "source": [
    "del d1[\"grape\"]"
   ]
  },
  {
   "cell_type": "code",
   "execution_count": 25,
   "metadata": {
    "collapsed": true
   },
   "outputs": [
    {
     "data": {
      "text/plain": [
       "{'apple': 150, 'grape': 200, 'banana': 300}"
      ]
     },
     "execution_count": 25,
     "metadata": {},
     "output_type": "execute_result"
    }
   ],
   "source": [
    "d2 = {'apple': 100, 'grape': 200}\n",
    "d3 = {'apple': 150, 'banana': 300}\n",
    "d2.update(d3)\n",
    "d2"
   ]
  },
  {
   "cell_type": "code",
   "execution_count": 29,
   "metadata": {
    "collapsed": true
   },
   "outputs": [
    {
     "data": {
      "text/plain": [
       "True"
      ]
     },
     "execution_count": 29,
     "metadata": {},
     "output_type": "execute_result"
    }
   ],
   "source": [
    "'apple' in d2"
   ]
  },
  {
   "cell_type": "code",
   "execution_count": 28,
   "metadata": {
    "collapsed": true
   },
   "outputs": [
    {
     "data": {
      "text/plain": [
       "False"
      ]
     },
     "execution_count": 28,
     "metadata": {},
     "output_type": "execute_result"
    }
   ],
   "source": [
    "'tomatoes' in d2"
   ]
  },
  {
   "cell_type": "code",
   "execution_count": 30,
   "metadata": {
    "collapsed": true
   },
   "outputs": [
    {
     "data": {
      "text/plain": [
       "dict_keys(['apple', 'grape', 'banana'])"
      ]
     },
     "execution_count": 30,
     "metadata": {},
     "output_type": "execute_result"
    }
   ],
   "source": [
    "d2.keys()"
   ]
  },
  {
   "cell_type": "code",
   "execution_count": 31,
   "metadata": {
    "collapsed": true
   },
   "outputs": [
    {
     "data": {
      "text/plain": [
       "dict_values([150, 200, 300])"
      ]
     },
     "execution_count": 31,
     "metadata": {},
     "output_type": "execute_result"
    }
   ],
   "source": [
    "d2.values()"
   ]
  },
  {
   "cell_type": "code",
   "execution_count": 32,
   "metadata": {
    "collapsed": true
   },
   "outputs": [
    {
     "data": {
      "text/plain": [
       "dict_items([('apple', 150), ('grape', 200), ('banana', 300)])"
      ]
     },
     "execution_count": 32,
     "metadata": {},
     "output_type": "execute_result"
    }
   ],
   "source": [
    "d2.items()"
   ]
  },
  {
   "cell_type": "markdown",
   "metadata": {},
   "source": [
    "# SET"
   ]
  },
  {
   "cell_type": "code",
   "execution_count": 43,
   "metadata": {
    "collapsed": true
   },
   "outputs": [
    {
     "name": "stdout",
     "output_type": "stream",
     "text": [
      "<class 'list'>\n",
      "<class 'set'>\n",
      "{444, 333, 222}\n",
      "[222, 333, 444]\n"
     ]
    }
   ],
   "source": [
    "list1 = [222, 333, 444]\n",
    "print(type(list1))\n",
    "set1 = set()\n",
    "set1 = set(list1)\n",
    "print(type(set1))\n",
    "print(set1)\n",
    "print(list1)\n"
   ]
  },
  {
   "cell_type": "code",
   "execution_count": 44,
   "metadata": {
    "collapsed": true
   },
   "outputs": [
    {
     "name": "stdout",
     "output_type": "stream",
     "text": [
      "<class 'list'>\n",
      "{'abc', 666, 555}\n"
     ]
    }
   ],
   "source": [
    "list2 = [555,'abc', 666,666,'abc']\n",
    "print(type(list2))\n",
    "set2 = set(list2)\n",
    "#print({type(set2[0]),type(set2[1])})\n",
    "print(set2)"
   ]
  },
  {
   "cell_type": "code",
   "execution_count": 47,
   "metadata": {
    "collapsed": true
   },
   "outputs": [
    {
     "name": "stdout",
     "output_type": "stream",
     "text": [
      "<class 'set'>\n",
      "{1, 2, 3, 4, 5, 6}\n"
     ]
    }
   ],
   "source": [
    "#create set\n",
    "'''\n",
    "   Khác với List - các phần tử có thể giống nhau; Set là tập hợp các phần tử \n",
    "   không giống nhau (nếu giống thì nó sữ tự bỏ đi). \n",
    "'''\n",
    "set3 = {1,2,3,4,4,5,5,6,6}\n",
    "print(type(set3))\n",
    "print(set3)\n",
    "#output {1, 2, 3, 4, 5, 6}\n"
   ]
  },
  {
   "cell_type": "raw",
   "metadata": {},
   "source": [
    "# Function of Set"
   ]
  },
  {
   "cell_type": "code",
   "execution_count": 53,
   "metadata": {},
   "outputs": [
    {
     "name": "stdout",
     "output_type": "stream",
     "text": [
      "{1, 2, 3, 4, 5}\n",
      "{2, 3, 4, 5, 6}\n",
      "{1, 2, 3, 4, 5, 6}\n",
      "{2, 3, 4, 5}\n",
      "{1}\n",
      "{1}\n"
     ]
    }
   ],
   "source": [
    "a = {1, 2, 3, 4, 5}\n",
    "b = {2, 3, 4, 5, 6}\n",
    "print(a)\n",
    "print(b)\n",
    "print(a.union(b))\n",
    "print(a.intersection(b))\n",
    "print(a.difference(b))\n",
    "print(a-b)"
   ]
  },
  {
   "cell_type": "code",
   "execution_count": 57,
   "metadata": {
    "collapsed": true
   },
   "outputs": [
    {
     "name": "stdout",
     "output_type": "stream",
     "text": [
      "False\n",
      "True\n",
      "False\n",
      "True\n"
     ]
    }
   ],
   "source": [
    "c = {1, 2, 3, 4, 5}\n",
    "d = {1, 2, 3}\n",
    "print(c.issubset(d))\n",
    "print(c.issuperset(d))\n",
    "print(c.isdisjoint(d))\n",
    "print(d <= c)"
   ]
  },
  {
   "cell_type": "code",
   "execution_count": 69,
   "metadata": {},
   "outputs": [
    {
     "name": "stdout",
     "output_type": "stream",
     "text": [
      "{1, 2, 3, 4, 5, 'a', 'b'}\n",
      "{1, 2, 3, 4, 5, 6, 7, 'a', 'b'}\n",
      "{1, 2, 3, 4, 5, 6, 7, 8, 'a', 'b'}\n",
      "{1, 2, 3, 4, 5, 6, 7, 'a', 'b'}\n",
      "{2, 3, 4, 5, 6, 7, 'a', 'b'}\n"
     ]
    }
   ],
   "source": [
    "e = {'a','b',1, 2, 3, 4}\n",
    "e.add(5)\n",
    "print(e)\n",
    "e.update({5,6,7})\n",
    "print(e)\n",
    "e.update(['a','b',8])\n",
    "print(e)\n",
    "e.remove(8)\n",
    "print(e)\n",
    "e.pop()\n",
    "print(e)"
   ]
  },
  {
   "cell_type": "markdown",
   "metadata": {},
   "source": [
    "# Chú ý về LIST, TUBE, SET\n",
    "List: \n",
    "Lists are just like dynamic sized arrays, declared in other languages (vector in C++ and ArrayList in Java). Lists need not be homogeneous always which makes it the most powerful tool in Python. The main characteristics of lists are – \n",
    "\n",
    "The list is a datatype available in Python which can be written as a list of comma-separated values (items) between square brackets.\n",
    "List are mutable .i.e it can be converted into another data type and can store any data element in it.\n",
    "List can store any type of element.\n",
    "\n",
    "Tuple: \n",
    "Tuple is a collection of Python objects much like a list. The sequence of values stored in a tuple can be of any type, and they are indexed by integers. Values of a tuple are syntactically separated by ‘commas’. Although it is not necessary, it is more common to define a tuple by closing the sequence of values in parentheses. The main characteristics of tuples are – \n",
    "\n",
    "Tuple is an immutable sequence in python.\n",
    "It cannot be changed or replaced since it is immutable.\n",
    "It is defined under parenthesis().\n",
    "Tuples can store any type of element.\n",
    "\n",
    "Set: \n",
    "In Python, Set is an unordered collection of data type that is iterable, mutable, and has no duplicate elements. The major advantage of using a set, as opposed to a list, is that it has a highly optimized method for checking whether a specific element is contained in the set. The main characteristics of set are –\n",
    "\n",
    "Sets are an unordered collection of elements or unintended collection of items In python.\n",
    "Here the order in which the elements are added into the set is not fixed, it can change frequently.\n",
    "It is defined under curly braces{}\n",
    "Sets are mutable, however, only immutable objects can be stored in it.\n",
    "\n"
   ]
  },
  {
   "cell_type": "markdown",
   "metadata": {},
   "source": [
    "# Assignment mechanism in Python\n",
    "Cơ chế gán trong Python"
   ]
  },
  {
   "cell_type": "code",
   "execution_count": 75,
   "metadata": {
    "collapsed": true
   },
   "outputs": [
    {
     "name": "stdout",
     "output_type": "stream",
     "text": [
      "140723813692288\n",
      "140723813692288\n",
      "True\n",
      "\n",
      "140723813692288\n",
      "2338275889424\n",
      "False\n"
     ]
    }
   ],
   "source": [
    "dog = 100\n",
    "cat = dog\n",
    "\n",
    "# cat và dog trỏ tới cùng 1 địa chỉ\n",
    "\n",
    "print(id(dog))\n",
    "print(id(cat))\n",
    "print( dog is cat)\n",
    "print()\n",
    "\n",
    "cat = 1999\n",
    "print(id(dog))\n",
    "print(id(cat))\n",
    "print( dog is cat)"
   ]
  },
  {
   "cell_type": "markdown",
   "metadata": {},
   "source": [
    "# loop"
   ]
  },
  {
   "cell_type": "code",
   "execution_count": 76,
   "metadata": {
    "collapsed": true
   },
   "outputs": [
    {
     "name": "stdout",
     "output_type": "stream",
     "text": [
      "2\n",
      "2. It's an even number\n",
      "4\n",
      "4. It's an even number\n",
      "6\n",
      "6. It's an even number\n",
      "8\n",
      "8. It's an even number\n"
     ]
    }
   ],
   "source": [
    "e = [2, 3, 4, 5, 6,7, 8, 9]\n",
    "for i in e:\n",
    "    if i%2 == 0:\n",
    "        print(i)\n",
    "    else:\n",
    "        continue\n",
    "    print(\"{}. It's an even number\".format(i))\n",
    "    "
   ]
  },
  {
   "cell_type": "code",
   "execution_count": 77,
   "metadata": {
    "collapsed": true
   },
   "outputs": [
    {
     "name": "stdout",
     "output_type": "stream",
     "text": [
      "2\n",
      "2. It's an even number\n"
     ]
    }
   ],
   "source": [
    "e = [2, 3, 4, 5, 6,7, 8, 9]\n",
    "for i in e:\n",
    "    if i%2 == 0:\n",
    "        print(i)\n",
    "    else:\n",
    "        break\n",
    "    print(\"{}. It's an even number\".format(i))"
   ]
  },
  {
   "cell_type": "markdown",
   "metadata": {},
   "source": [
    "# Modified functions"
   ]
  },
  {
   "cell_type": "code",
   "execution_count": 78,
   "metadata": {},
   "outputs": [],
   "source": [
    "# Tham số truyền vào là nhiều\n",
    "def sum_numbers(a, *b):\n",
    "    for i in b:\n",
    "        a += i\n",
    "    return a"
   ]
  },
  {
   "cell_type": "code",
   "execution_count": 80,
   "metadata": {},
   "outputs": [
    {
     "data": {
      "text/plain": [
       "10"
      ]
     },
     "execution_count": 80,
     "metadata": {},
     "output_type": "execute_result"
    }
   ],
   "source": [
    "sum_numbers(1, 2, 3, 4)\n",
    "    "
   ]
  },
  {
   "cell_type": "code",
   "execution_count": 84,
   "metadata": {},
   "outputs": [],
   "source": [
    "def sum_numbers1(a, *b):\n",
    "    c = 0\n",
    "    for i in b:\n",
    "        a += i\n",
    "        c += 1\n",
    "    return a,c"
   ]
  },
  {
   "cell_type": "code",
   "execution_count": 85,
   "metadata": {
    "collapsed": true
   },
   "outputs": [
    {
     "name": "stdout",
     "output_type": "stream",
     "text": [
      "10 3\n"
     ]
    }
   ],
   "source": [
    "a,c = sum_numbers1(1, 2, 3, 4)\n",
    "print(a,c)"
   ]
  },
  {
   "cell_type": "code",
   "execution_count": 89,
   "metadata": {},
   "outputs": [],
   "source": [
    "def sum_numbers2(a, b):\n",
    "    for i in b:\n",
    "        a += i\n",
    "    return a"
   ]
  },
  {
   "cell_type": "code",
   "execution_count": 92,
   "metadata": {
    "collapsed": true
   },
   "outputs": [
    {
     "data": {
      "text/plain": [
       "10"
      ]
     },
     "execution_count": 92,
     "metadata": {},
     "output_type": "execute_result"
    }
   ],
   "source": [
    "sum_numbers2(1, [2, 3, 4])"
   ]
  },
  {
   "cell_type": "markdown",
   "metadata": {},
   "source": [
    "# Scripts and modules in Python\n",
    "Viết vào file và chạy từ file"
   ]
  },
  {
   "cell_type": "code",
   "execution_count": 93,
   "metadata": {
    "collapsed": true
   },
   "outputs": [
    {
     "name": "stdout",
     "output_type": "stream",
     "text": [
      "Writing test.py\n"
     ]
    }
   ],
   "source": [
    "%%writefile test.py\n",
    "\n",
    "v_1 = 10\n",
    "def v_add(v_list):\n",
    "    c = 0\n",
    "    for i in range(len(v_list)):\n",
    "        c += v_list[i]\n",
    "    return c\n",
    "\n",
    "l_1 = [1, 2, 3, 4]\n",
    "print(v_add(l_1))"
   ]
  },
  {
   "cell_type": "code",
   "execution_count": 94,
   "metadata": {
    "collapsed": true
   },
   "outputs": [
    {
     "name": "stdout",
     "output_type": "stream",
     "text": [
      "10\n"
     ]
    }
   ],
   "source": [
    "%run test.py"
   ]
  },
  {
   "cell_type": "code",
   "execution_count": 95,
   "metadata": {
    "collapsed": true
   },
   "outputs": [
    {
     "name": "stdout",
     "output_type": "stream",
     "text": [
      "10\n"
     ]
    }
   ],
   "source": [
    "import test"
   ]
  },
  {
   "cell_type": "code",
   "execution_count": 97,
   "metadata": {
    "collapsed": true
   },
   "outputs": [
    {
     "data": {
      "text/plain": [
       "<module 'test' from 'C:\\\\Users\\\\Hara Nguyen\\\\Desktop\\\\Python\\\\test.py'>"
      ]
     },
     "execution_count": 97,
     "metadata": {},
     "output_type": "execute_result"
    }
   ],
   "source": [
    "test"
   ]
  },
  {
   "cell_type": "code",
   "execution_count": 98,
   "metadata": {
    "collapsed": true
   },
   "outputs": [
    {
     "name": "stdout",
     "output_type": "stream",
     "text": [
      "10\n"
     ]
    }
   ],
   "source": [
    "print(test.v_1)"
   ]
  },
  {
   "cell_type": "code",
   "execution_count": 99,
   "metadata": {},
   "outputs": [
    {
     "data": {
      "text/plain": [
       "30"
      ]
     },
     "execution_count": 99,
     "metadata": {},
     "output_type": "execute_result"
    }
   ],
   "source": [
    "test.v_1 = 30\n",
    "test.v_1"
   ]
  },
  {
   "cell_type": "code",
   "execution_count": 100,
   "metadata": {},
   "outputs": [
    {
     "data": {
      "text/plain": [
       "90"
      ]
     },
     "execution_count": 100,
     "metadata": {},
     "output_type": "execute_result"
    }
   ],
   "source": [
    "l_2 = [20, 30, 40]\n",
    "test.v_add(l_2)"
   ]
  },
  {
   "cell_type": "code",
   "execution_count": 102,
   "metadata": {},
   "outputs": [
    {
     "data": {
      "text/plain": [
       "30"
      ]
     },
     "execution_count": 102,
     "metadata": {},
     "output_type": "execute_result"
    }
   ],
   "source": [
    "import test as ts\n",
    "\n",
    "ts.v_1"
   ]
  },
  {
   "cell_type": "code",
   "execution_count": 103,
   "metadata": {},
   "outputs": [
    {
     "data": {
      "text/plain": [
       "90"
      ]
     },
     "execution_count": 103,
     "metadata": {},
     "output_type": "execute_result"
    }
   ],
   "source": [
    "ts.v_add(l_2)"
   ]
  },
  {
   "cell_type": "code",
   "execution_count": 104,
   "metadata": {},
   "outputs": [
    {
     "data": {
      "text/plain": [
       "30"
      ]
     },
     "execution_count": 104,
     "metadata": {},
     "output_type": "execute_result"
    }
   ],
   "source": [
    "from test import v_1, v_add\n",
    "\n",
    "v_1"
   ]
  },
  {
   "cell_type": "code",
   "execution_count": 105,
   "metadata": {},
   "outputs": [
    {
     "data": {
      "text/plain": [
       "90"
      ]
     },
     "execution_count": 105,
     "metadata": {},
     "output_type": "execute_result"
    }
   ],
   "source": [
    "v_add(l_2)"
   ]
  },
  {
   "cell_type": "code",
   "execution_count": 106,
   "metadata": {},
   "outputs": [],
   "source": [
    "from test import *"
   ]
  },
  {
   "cell_type": "code",
   "execution_count": 107,
   "metadata": {},
   "outputs": [],
   "source": [
    "import os"
   ]
  },
  {
   "cell_type": "code",
   "execution_count": 108,
   "metadata": {},
   "outputs": [
    {
     "data": {
      "text/plain": [
       "'C:\\\\Users\\\\Hara Nguyen\\\\Desktop\\\\Python'"
      ]
     },
     "execution_count": 108,
     "metadata": {},
     "output_type": "execute_result"
    }
   ],
   "source": [
    "os.path.abspath(\".\")"
   ]
  },
  {
   "cell_type": "code",
   "execution_count": 109,
   "metadata": {},
   "outputs": [],
   "source": [
    "os.remove(\"test.py\")"
   ]
  },
  {
   "cell_type": "markdown",
   "metadata": {},
   "source": [
    "# ERROR handling"
   ]
  },
  {
   "cell_type": "code",
   "execution_count": 15,
   "metadata": {},
   "outputs": [
    {
     "name": "stdout",
     "output_type": "stream",
     "text": [
      "Input a number: 1\n",
      "0.0\n",
      "Input a number: a\n",
      "input error: value must > 0\n"
     ]
    }
   ],
   "source": [
    "### import math\n",
    "\n",
    "for i in range(20):\n",
    "    try:\n",
    "        input_n = input(\"Input a number: \")\n",
    "        if input_n == \"quit\":\n",
    "            break\n",
    "        r = math.log(float(input_n))\n",
    "        print(r)\n",
    "    except ValueError:\n",
    "        print(\"input error: value must > 0\")\n",
    "        break\n",
    "    except Exception:\n",
    "        print(\"Unknown error\")"
   ]
  },
  {
   "cell_type": "code",
   "execution_count": 115,
   "metadata": {},
   "outputs": [],
   "source": [
    "class FirstError(ValueError):\n",
    "    pass"
   ]
  },
  {
   "cell_type": "code",
   "execution_count": 14,
   "metadata": {},
   "outputs": [
    {
     "name": "stdout",
     "output_type": "stream",
     "text": [
      "1\n"
     ]
    },
    {
     "ename": "NameError",
     "evalue": "name 'FirstError' is not defined",
     "output_type": "error",
     "traceback": [
      "\u001b[1;31m---------------------------------------------------------------------------\u001b[0m",
      "\u001b[1;31mNameError\u001b[0m                                 Traceback (most recent call last)",
      "\u001b[1;32m<ipython-input-14-08bf406b035c>\u001b[0m in \u001b[0;36m<module>\u001b[1;34m\u001b[0m\n\u001b[0;32m      3\u001b[0m     \u001b[0minput_1\u001b[0m \u001b[1;33m=\u001b[0m \u001b[0minput\u001b[0m\u001b[1;33m(\u001b[0m\u001b[1;33m)\u001b[0m\u001b[1;33m\u001b[0m\u001b[1;33m\u001b[0m\u001b[0m\n\u001b[0;32m      4\u001b[0m     \u001b[1;32mif\u001b[0m \u001b[0minput_1\u001b[0m \u001b[1;32mnot\u001b[0m \u001b[1;32min\u001b[0m \u001b[0ml_1\u001b[0m\u001b[1;33m:\u001b[0m\u001b[1;33m\u001b[0m\u001b[1;33m\u001b[0m\u001b[0m\n\u001b[1;32m----> 5\u001b[1;33m         \u001b[1;32mraise\u001b[0m \u001b[0mFirstError\u001b[0m\u001b[1;33m(\u001b[0m\u001b[1;34m\"Invalid input\"\u001b[0m\u001b[1;33m)\u001b[0m\u001b[1;33m\u001b[0m\u001b[1;33m\u001b[0m\u001b[0m\n\u001b[0m",
      "\u001b[1;31mNameError\u001b[0m: name 'FirstError' is not defined"
     ]
    }
   ],
   "source": [
    "l_1 = [\"Welcome\", \"to\", \"Python\"]\n",
    "while True:\n",
    "    input_1 = input()\n",
    "    if input_1 not in l_1:\n",
    "        raise FirstError(\"Invalid input\")"
   ]
  },
  {
   "cell_type": "code",
   "execution_count": 117,
   "metadata": {
    "collapsed": true
   },
   "outputs": [
    {
     "name": "stdout",
     "output_type": "stream",
     "text": [
      "try\n",
      "finally\n"
     ]
    }
   ],
   "source": [
    "try:\n",
    "    print(\"try\")\n",
    "finally:\n",
    "    print(\"finally\")"
   ]
  },
  {
   "cell_type": "code",
   "execution_count": 118,
   "metadata": {
    "collapsed": true
   },
   "outputs": [
    {
     "name": "stdout",
     "output_type": "stream",
     "text": [
      "this function\n"
     ]
    },
    {
     "ename": "ZeroDivisionError",
     "evalue": "division by zero",
     "output_type": "error",
     "traceback": [
      "\u001b[1;31m---------------------------------------------------------------------------\u001b[0m",
      "\u001b[1;31mZeroDivisionError\u001b[0m                         Traceback (most recent call last)",
      "\u001b[1;32m<ipython-input-118-52e63a69ca2e>\u001b[0m in \u001b[0;36m<module>\u001b[1;34m\u001b[0m\n\u001b[0;32m      1\u001b[0m \u001b[1;32mtry\u001b[0m\u001b[1;33m:\u001b[0m\u001b[1;33m\u001b[0m\u001b[1;33m\u001b[0m\u001b[0m\n\u001b[1;32m----> 2\u001b[1;33m     \u001b[1;36m1\u001b[0m\u001b[1;33m/\u001b[0m\u001b[1;36m0\u001b[0m\u001b[1;33m\u001b[0m\u001b[1;33m\u001b[0m\u001b[0m\n\u001b[0m\u001b[0;32m      3\u001b[0m \u001b[1;32mfinally\u001b[0m\u001b[1;33m:\u001b[0m\u001b[1;33m\u001b[0m\u001b[1;33m\u001b[0m\u001b[0m\n\u001b[0;32m      4\u001b[0m     \u001b[0mprint\u001b[0m\u001b[1;33m(\u001b[0m\u001b[1;34m\"this function\"\u001b[0m\u001b[1;33m)\u001b[0m\u001b[1;33m\u001b[0m\u001b[1;33m\u001b[0m\u001b[0m\n",
      "\u001b[1;31mZeroDivisionError\u001b[0m: division by zero"
     ]
    }
   ],
   "source": [
    "try:\n",
    "    1/0\n",
    "finally:\n",
    "    print(\"this function\")"
   ]
  },
  {
   "cell_type": "code",
   "execution_count": 119,
   "metadata": {
    "collapsed": true
   },
   "outputs": [
    {
     "name": "stdout",
     "output_type": "stream",
     "text": [
      "This is exception\n",
      "this function\n"
     ]
    }
   ],
   "source": [
    "try:\n",
    "    1/0\n",
    "except:\n",
    "    print(\"This is exception\")\n",
    "finally:\n",
    "    print(\"this function\")"
   ]
  },
  {
   "cell_type": "markdown",
   "metadata": {},
   "source": [
    "# Read and write file"
   ]
  },
  {
   "cell_type": "code",
   "execution_count": 120,
   "metadata": {},
   "outputs": [
    {
     "name": "stdout",
     "output_type": "stream",
     "text": [
      "Writing text.txt\n"
     ]
    }
   ],
   "source": [
    "%%writefile text.txt\n",
    "\"hello python\"\n",
    "\"This is a good day for coding\""
   ]
  },
  {
   "cell_type": "code",
   "execution_count": 130,
   "metadata": {},
   "outputs": [],
   "source": [
    "t = open(\"./files/test.txt\")"
   ]
  },
  {
   "cell_type": "code",
   "execution_count": 127,
   "metadata": {},
   "outputs": [
    {
     "name": "stdout",
     "output_type": "stream",
     "text": [
      "\n",
      "<class 'str'>\n"
     ]
    }
   ],
   "source": [
    "t_read = t.read()\n",
    "print(t_read)\n",
    "print(type(t_read))"
   ]
  },
  {
   "cell_type": "code",
   "execution_count": 131,
   "metadata": {},
   "outputs": [
    {
     "name": "stdout",
     "output_type": "stream",
     "text": [
      "['\"hello python\"\\n', '\"This is a good day for coding\"\\n']\n",
      "<class 'list'>\n"
     ]
    }
   ],
   "source": [
    "t_lines = t.readlines()\n",
    "print(t_lines)\n",
    "print(type(t_lines))"
   ]
  },
  {
   "cell_type": "code",
   "execution_count": 132,
   "metadata": {},
   "outputs": [
    {
     "name": "stdout",
     "output_type": "stream",
     "text": [
      "current line: \"hello python\"\n",
      "\n",
      "current line: \"This is a good day for coding\"\n",
      "\n"
     ]
    }
   ],
   "source": [
    "for i in t_lines:\n",
    "    print(\"current line:\",i)\n",
    "    "
   ]
  },
  {
   "cell_type": "code",
   "execution_count": 133,
   "metadata": {},
   "outputs": [],
   "source": [
    "t.close()"
   ]
  },
  {
   "cell_type": "code",
   "execution_count": 140,
   "metadata": {},
   "outputs": [],
   "source": [
    "t_2 = open(\"./files/test_write.txt\",\"w\")\n",
    "t_2.write(\"This is a good day.\\n\")\n",
    "t_2.write(\"Let's start to learn python.\")\n",
    "t_2.close()"
   ]
  },
  {
   "cell_type": "code",
   "execution_count": 141,
   "metadata": {},
   "outputs": [],
   "source": [
    "t_2 = open(\"./files/test_write.txt\",\"w\")\n",
    "t_2.write(\"This is a good day.\\n\")\n",
    "t_2.write(\"1234512333\\n\")\n",
    "t_2.write(\"qwerty\\n\")\n",
    "t_2.close()"
   ]
  },
  {
   "cell_type": "code",
   "execution_count": 142,
   "metadata": {},
   "outputs": [],
   "source": [
    "t_2 = open(\"./files/test_write.txt\",\"a\")\n",
    "t_2.write(\"This is a good day.\\n\")\n",
    "t_2.write(\"1234512333\\n\")\n",
    "t_2.write(\"qwerty\\n\")\n",
    "t_2.close()"
   ]
  },
  {
   "cell_type": "code",
   "execution_count": 143,
   "metadata": {
    "collapsed": true
   },
   "outputs": [
    {
     "name": "stdout",
     "output_type": "stream",
     "text": [
      "0\n",
      "1\n",
      "2\n",
      "3\n",
      "4\n",
      "5\n",
      "6\n",
      "7\n",
      "8\n",
      "9\n",
      "10\n",
      "11\n",
      "12\n",
      "13\n",
      "14\n",
      "\n"
     ]
    }
   ],
   "source": [
    "t_2 = open(\"./files/test_write.txt\",\"w\")\n",
    "for i in range(15):\n",
    "    t_2.write(str(i)+\"\\n\")\n",
    "t_2.close()\n",
    "t_3 =  open(\"./files/test_write.txt\",\"r\")\n",
    "print(t_3.read())"
   ]
  },
  {
   "cell_type": "code",
   "execution_count": 146,
   "metadata": {},
   "outputs": [
    {
     "name": "stdout",
     "output_type": "stream",
     "text": [
      "Unknow error: 50\n"
     ]
    }
   ],
   "source": [
    "t_2 = open(\"./files/test_write.txt\",\"w\")\n",
    "try:\n",
    "    for i in range(100):\n",
    "        10/(i-50)\n",
    "        t_2.write(str(i)+\"\\n\")\n",
    "except Exception:\n",
    "    print(\"Unknow error:\",i)\n",
    "finally:\n",
    "    t_2.close()\n"
   ]
  },
  {
   "cell_type": "code",
   "execution_count": 151,
   "metadata": {},
   "outputs": [
    {
     "name": "stdout",
     "output_type": "stream",
     "text": [
      "Hello Python\n"
     ]
    }
   ],
   "source": [
    "t_3 =  open(\"./files/test_write.txt\",\"r\")\n",
    "print(t_3.read())"
   ]
  },
  {
   "cell_type": "code",
   "execution_count": 150,
   "metadata": {},
   "outputs": [],
   "source": [
    "# More safe: tự try và tự close file khi ko dùng\n",
    "with open(\"./files/test_write.txt\",\"w\") as f:\n",
    "    f.write(\"Hello Python\")\n",
    "    "
   ]
  },
  {
   "cell_type": "markdown",
   "metadata": {},
   "source": [
    "# Class"
   ]
  },
  {
   "cell_type": "code",
   "execution_count": 152,
   "metadata": {},
   "outputs": [],
   "source": [
    "class Person:\n",
    "    energy = 1000\n",
    "    \n",
    "    def __init__(self, alias, age):\n",
    "        self.age = age\n",
    "        self.alias = alias\n",
    "        \n",
    "    def display_energy(self):\n",
    "        print(Person.energy)\n",
    "        \n",
    "    def display_alias(self):\n",
    "        print(self.alias)"
   ]
  },
  {
   "cell_type": "code",
   "execution_count": 153,
   "metadata": {},
   "outputs": [],
   "source": [
    "p_1 = Person(\"Paul\", 25)\n",
    "p_2 = Person(\"Mark\", 28)"
   ]
  },
  {
   "cell_type": "code",
   "execution_count": 154,
   "metadata": {},
   "outputs": [
    {
     "data": {
      "text/plain": [
       "'Paul'"
      ]
     },
     "execution_count": 154,
     "metadata": {},
     "output_type": "execute_result"
    }
   ],
   "source": [
    "p_1.alias"
   ]
  },
  {
   "cell_type": "code",
   "execution_count": 155,
   "metadata": {},
   "outputs": [
    {
     "data": {
      "text/plain": [
       "28"
      ]
     },
     "execution_count": 155,
     "metadata": {},
     "output_type": "execute_result"
    }
   ],
   "source": [
    "p_2.age"
   ]
  },
  {
   "cell_type": "code",
   "execution_count": 156,
   "metadata": {},
   "outputs": [
    {
     "name": "stdout",
     "output_type": "stream",
     "text": [
      "1000\n"
     ]
    }
   ],
   "source": [
    "p_2.display_energy()"
   ]
  },
  {
   "cell_type": "code",
   "execution_count": 157,
   "metadata": {},
   "outputs": [],
   "source": [
    "del p_2.alias"
   ]
  },
  {
   "cell_type": "code",
   "execution_count": 158,
   "metadata": {
    "collapsed": true
   },
   "outputs": [
    {
     "ename": "AttributeError",
     "evalue": "'Person' object has no attribute 'alias'",
     "output_type": "error",
     "traceback": [
      "\u001b[1;31m---------------------------------------------------------------------------\u001b[0m",
      "\u001b[1;31mAttributeError\u001b[0m                            Traceback (most recent call last)",
      "\u001b[1;32m<ipython-input-158-31ebf7240ab5>\u001b[0m in \u001b[0;36m<module>\u001b[1;34m\u001b[0m\n\u001b[1;32m----> 1\u001b[1;33m \u001b[0mp_2\u001b[0m\u001b[1;33m.\u001b[0m\u001b[0malias\u001b[0m\u001b[1;33m\u001b[0m\u001b[1;33m\u001b[0m\u001b[0m\n\u001b[0m",
      "\u001b[1;31mAttributeError\u001b[0m: 'Person' object has no attribute 'alias'"
     ]
    }
   ],
   "source": [
    "p_2.alias"
   ]
  },
  {
   "cell_type": "code",
   "execution_count": 159,
   "metadata": {},
   "outputs": [
    {
     "data": {
      "text/plain": [
       "True"
      ]
     },
     "execution_count": 159,
     "metadata": {},
     "output_type": "execute_result"
    }
   ],
   "source": [
    "hasattr(p_1,\"age\")"
   ]
  },
  {
   "cell_type": "code",
   "execution_count": 160,
   "metadata": {},
   "outputs": [
    {
     "data": {
      "text/plain": [
       "False"
      ]
     },
     "execution_count": 160,
     "metadata": {},
     "output_type": "execute_result"
    }
   ],
   "source": [
    "hasattr(p_2,\"alias\")"
   ]
  },
  {
   "cell_type": "code",
   "execution_count": 162,
   "metadata": {},
   "outputs": [
    {
     "data": {
      "text/plain": [
       "15"
      ]
     },
     "execution_count": 162,
     "metadata": {},
     "output_type": "execute_result"
    }
   ],
   "source": [
    "getattr(p_1, \"age\")\n",
    "setattr(p_1, \"age\", 15)\n",
    "getattr(p_1, \"age\")"
   ]
  },
  {
   "cell_type": "code",
   "execution_count": 164,
   "metadata": {
    "collapsed": true
   },
   "outputs": [
    {
     "ename": "AttributeError",
     "evalue": "age",
     "output_type": "error",
     "traceback": [
      "\u001b[1;31m---------------------------------------------------------------------------\u001b[0m",
      "\u001b[1;31mAttributeError\u001b[0m                            Traceback (most recent call last)",
      "\u001b[1;32m<ipython-input-164-9ed46e8a3102>\u001b[0m in \u001b[0;36m<module>\u001b[1;34m\u001b[0m\n\u001b[1;32m----> 1\u001b[1;33m \u001b[0mdelattr\u001b[0m\u001b[1;33m(\u001b[0m\u001b[0mp_1\u001b[0m\u001b[1;33m,\u001b[0m\u001b[1;34m\"age\"\u001b[0m\u001b[1;33m)\u001b[0m\u001b[1;33m\u001b[0m\u001b[1;33m\u001b[0m\u001b[0m\n\u001b[0m",
      "\u001b[1;31mAttributeError\u001b[0m: age"
     ]
    }
   ],
   "source": [
    "delattr(p_1,\"age\")"
   ]
  },
  {
   "cell_type": "markdown",
   "metadata": {},
   "source": [
    "# Inheritance of class"
   ]
  },
  {
   "cell_type": "code",
   "execution_count": 181,
   "metadata": {},
   "outputs": [],
   "source": [
    "class Parent:\n",
    "    number = 10\n",
    "    def __init__(self):\n",
    "        print(\"this in the parent class\")\n",
    "        \n",
    "    def firstFunc(self):\n",
    "        print(\"This is the first function of the parent class\")\n",
    "    \n",
    "    def setAttr(self, attr):\n",
    "        Parent.parentAttribute = attr\n",
    "    \n",
    "    def getAttr(self):\n",
    "        print(\"Parent attribute:\",Parent.parentAttribute)\n",
    "\n",
    "class Child(Parent):\n",
    "    def __init__(self):\n",
    "        print(\"this in the child class\")\n",
    "        \n",
    "    def firstFunc(self):\n",
    "        print(\"Changed\")\n",
    "    \n",
    "    def secondFunc(self):\n",
    "        print(\"This is the second function of the child class\")"
   ]
  },
  {
   "cell_type": "code",
   "execution_count": 182,
   "metadata": {
    "collapsed": true
   },
   "outputs": [
    {
     "name": "stdout",
     "output_type": "stream",
     "text": [
      "this in the child class\n",
      "Changed\n",
      "This is the second function of the child class\n",
      "Parent attribute: 200\n"
     ]
    }
   ],
   "source": [
    "c_1 = Child()\n",
    "c_1.firstFunc()\n",
    "c_1.secondFunc()\n",
    "c_1.setAttr(200)\n",
    "c_1.getAttr()"
   ]
  },
  {
   "cell_type": "code",
   "execution_count": 191,
   "metadata": {},
   "outputs": [],
   "source": [
    "class Staff:\n",
    "    def __init__(self):\n",
    "        self.age = 25\n",
    "        self.name = \"Paul\"\n",
    "        self.salary =  1000\n",
    "        \n",
    "    def showData(self):\n",
    "        print(self.name +\" \"+str(self.age)+\" \"+str(self.salary))\n",
    "        \n",
    "class Worker(Staff):\n",
    "        \n",
    "    def addShift(self, shift):\n",
    "        self.shift = shift\n",
    "    \n",
    "    def showShift(self):\n",
    "        print(self.shift)\n",
    "        \n",
    "    def showData(self):\n",
    "        super().showData()\n",
    "        print(self.shift)\n",
    "    \n",
    "w_1 = Worker()\n",
    "w_1.addShift(\"morning\")\n",
    "w_1.showData()\n",
    "#w_1.showShift()\n",
    "                "
   ]
  },
  {
   "cell_type": "markdown",
   "metadata": {},
   "source": [
    "# Date and Time management"
   ]
  },
  {
   "cell_type": "code",
   "execution_count": 193,
   "metadata": {},
   "outputs": [],
   "source": [
    "import time"
   ]
  },
  {
   "cell_type": "code",
   "execution_count": 195,
   "metadata": {},
   "outputs": [
    {
     "name": "stdout",
     "output_type": "stream",
     "text": [
      "1607694101.4719398\n"
     ]
    }
   ],
   "source": [
    "print(time.time())"
   ]
  },
  {
   "cell_type": "code",
   "execution_count": 196,
   "metadata": {},
   "outputs": [
    {
     "name": "stdout",
     "output_type": "stream",
     "text": [
      "1607694121.7061138\n"
     ]
    }
   ],
   "source": [
    "print(time.time())"
   ]
  },
  {
   "cell_type": "code",
   "execution_count": 197,
   "metadata": {},
   "outputs": [
    {
     "name": "stdout",
     "output_type": "stream",
     "text": [
      "time.struct_time(tm_year=2020, tm_mon=12, tm_mday=11, tm_hour=20, tm_min=42, tm_sec=37, tm_wday=4, tm_yday=346, tm_isdst=0)\n"
     ]
    }
   ],
   "source": [
    "print(time.localtime(time.time()))"
   ]
  },
  {
   "cell_type": "code",
   "execution_count": 199,
   "metadata": {},
   "outputs": [
    {
     "name": "stdout",
     "output_type": "stream",
     "text": [
      "Fri Dec 11 20:43:35 2020\n"
     ]
    }
   ],
   "source": [
    "print(time.asctime(time.localtime(time.time())))"
   ]
  },
  {
   "cell_type": "code",
   "execution_count": 202,
   "metadata": {},
   "outputs": [
    {
     "name": "stdout",
     "output_type": "stream",
     "text": [
      "11-12-2020  20:45:42\n"
     ]
    }
   ],
   "source": [
    "print(time.strftime(\"%d-%m-%Y  %H:%M:%S\",time.localtime()))"
   ]
  },
  {
   "cell_type": "code",
   "execution_count": 203,
   "metadata": {},
   "outputs": [],
   "source": [
    "import calendar"
   ]
  },
  {
   "cell_type": "code",
   "execution_count": 204,
   "metadata": {},
   "outputs": [
    {
     "name": "stdout",
     "output_type": "stream",
     "text": [
      "     July 2018\n",
      "Mo Tu We Th Fr Sa Su\n",
      "                   1\n",
      " 2  3  4  5  6  7  8\n",
      " 9 10 11 12 13 14 15\n",
      "16 17 18 19 20 21 22\n",
      "23 24 25 26 27 28 29\n",
      "30 31\n",
      "\n"
     ]
    }
   ],
   "source": [
    "print(calendar.month(2018,7))"
   ]
  },
  {
   "cell_type": "code",
   "execution_count": 207,
   "metadata": {},
   "outputs": [
    {
     "name": "stdout",
     "output_type": "stream",
     "text": [
      "Help on method formatmonth in module calendar:\n",
      "\n",
      "formatmonth(theyear, themonth, w=0, l=0) method of calendar.TextCalendar instance\n",
      "    Return a month's calendar string (multi-line).\n",
      "\n",
      "None\n"
     ]
    }
   ],
   "source": [
    "print(help(calendar.month))"
   ]
  },
  {
   "cell_type": "markdown",
   "metadata": {},
   "source": [
    "# Practical exercise Python"
   ]
  },
  {
   "cell_type": "markdown",
   "metadata": {},
   "source": [
    "TASK 1:\n",
    "We have four numbers 1, 2, 3, 4. We have to create combinations\n",
    "made by 3 digits, where each combination must be unique and \n",
    "there cannot be duplicated\n",
    "\n",
    "Task: what are the combinations we can get, taking in \n",
    "consideration the condition indicated above?"
   ]
  },
  {
   "cell_type": "code",
   "execution_count": 217,
   "metadata": {},
   "outputs": [
    {
     "name": "stdout",
     "output_type": "stream",
     "text": [
      "[123, 124, 132, 134, 142, 143, 213, 214, 231, 234, 241, 243, 312, 314, 321, 324, 341, 342, 412, 413, 421, 423, 431, 432]\n",
      "24\n"
     ]
    }
   ],
   "source": [
    "s_a = {1, 2, 3, 4}\n",
    "\n",
    "i = 0\n",
    "result = []\n",
    "for a in s_a:\n",
    "    s_b = s_a.difference({a})\n",
    "    for b in s_b:\n",
    "        s_c = s_b.difference({b})\n",
    "        for c in s_c:\n",
    "            tmp = a*100 + b*10+ c\n",
    "            i += 1\n",
    "            result.append(tmp)          \n",
    "            \n",
    "print(result)\n",
    "print(len(result))\n",
    "            "
   ]
  },
  {
   "cell_type": "code",
   "execution_count": 218,
   "metadata": {
    "collapsed": true
   },
   "outputs": [
    {
     "name": "stdout",
     "output_type": "stream",
     "text": [
      "1 2 3\n",
      "1 2 4\n",
      "1 3 2\n",
      "1 3 4\n",
      "1 4 2\n",
      "1 4 3\n",
      "2 1 3\n",
      "2 1 4\n",
      "2 3 1\n",
      "2 3 4\n",
      "2 4 1\n",
      "2 4 3\n",
      "3 1 2\n",
      "3 1 4\n",
      "3 2 1\n",
      "3 2 4\n",
      "3 4 1\n",
      "3 4 2\n",
      "4 1 2\n",
      "4 1 3\n",
      "4 2 1\n",
      "4 2 3\n",
      "4 3 1\n",
      "4 3 2\n",
      "24\n"
     ]
    }
   ],
   "source": [
    "i = 0\n",
    "for i_1 in range(1,5):\n",
    "    for i_2 in range(1,5):\n",
    "        for i_3 in range(1,5):\n",
    "            if (i_1 != i_2) and (i_1 != i_3) and (i_2 != i_3):\n",
    "                i += 1\n",
    "                print (i_1, i_2, i_3)\n",
    "                \n",
    "print(i)"
   ]
  },
  {
   "cell_type": "markdown",
   "metadata": {},
   "source": [
    "TASK 2:\n",
    "The rewards that a company gives to their employees are based on profits. We divide the profits in the following way:\n",
    "    1. 1st less or equals to 10.000E, bonus is 10%\n",
    "    2. 2nd greater than 10.000E, less than 20.000E, where the \n",
    "    part less than 10.000E will still be 10% and the part which\n",
    "    exceeds 10.000E bonus will be 7.5%\n",
    "    3. 3rd between 20 and 40, the bonus of the part exceeding\n",
    "    20 will be 5%\n",
    "    4. 4th between 40 and 60, the bonu of the part exceeding 40\n",
    "    will be 3%\n",
    "    5. 5th between 60 and 100, the bonu of the part exceeding 60\n",
    "    will be 1.5%\n",
    "    6. 6th greater than 100, the bonu of the part exceeding 100\n",
    "    will be 1.0%\n",
    "\n",
    "Task:\n",
    "    The monthly profit must be put in and it has to calculate the total import of the bonus"
   ]
  },
  {
   "cell_type": "code",
   "execution_count": 2,
   "metadata": {},
   "outputs": [],
   "source": [
    "def bonusCalculator(income):\n",
    "    profit = [100000, 60000, 40000, 20000, 10000, 0]\n",
    "    rate = [0.01, 0.015, 0.03, 0.05, 0.075, 0.1]\n",
    "    r = 0\n",
    "    for index in range(0, 6):\n",
    "        if income > profit[index]:\n",
    "            r += (income - profit[index]) * rate[index]\n",
    "            income = profit[index]\n",
    "    return r\n"
   ]
  },
  {
   "cell_type": "code",
   "execution_count": 3,
   "metadata": {},
   "outputs": [
    {
     "name": "stdout",
     "output_type": "stream",
     "text": [
      "3455.0\n"
     ]
    }
   ],
   "source": [
    "print(bonusCalculator(67000))"
   ]
  },
  {
   "cell_type": "raw",
   "metadata": {},
   "source": [
    "TASK 3: \n",
    "Create three integer x,y,z\n",
    "\n",
    "Task: Order the integers from the smallest to the largest"
   ]
  },
  {
   "cell_type": "code",
   "execution_count": 4,
   "metadata": {},
   "outputs": [
    {
     "name": "stdout",
     "output_type": "stream",
     "text": [
      "[3, 4, 7]\n"
     ]
    }
   ],
   "source": [
    "l1 = [4,3,7]\n",
    "l1.sort()\n",
    "print(l1)"
   ]
  },
  {
   "cell_type": "code",
   "execution_count": 18,
   "metadata": {},
   "outputs": [
    {
     "name": "stdout",
     "output_type": "stream",
     "text": [
      "input number:4\n",
      "input number:3\n",
      "input number:5\n",
      "[5, 4, 3]\n"
     ]
    }
   ],
   "source": [
    "l1 = []\n",
    "N = 0\n",
    "while N<3:\n",
    "    try:\n",
    "        input_n = int(input(\"input number:\"))\n",
    "        l1.append(input_n)\n",
    "        N += 1\n",
    "    except ValueError:\n",
    "        print(\"it must be a number \")\n",
    "        continue\n",
    "    except Exception:\n",
    "        print(\"Exception\")\n",
    "        continue\n",
    "        \n",
    "l1.sort()\n",
    "#l1.sort(reverse = True)\n",
    "print(l1)"
   ]
  },
  {
   "cell_type": "markdown",
   "metadata": {},
   "source": [
    "TASK 4:\n",
    "Insert a line of text and get the number of letters, the numbers of spaces,\n",
    "the quantity of numbers, and the quantity of all the remainder from the inserted row"
   ]
  },
  {
   "cell_type": "code",
   "execution_count": 27,
   "metadata": {
    "collapsed": true
   },
   "outputs": [
    {
     "name": "stdout",
     "output_type": "stream",
     "text": [
      "44\n",
      "18\n",
      "3\n",
      "3\n",
      "68\n"
     ]
    }
   ],
   "source": [
    "s1 = \"Hoa 1 2 1 hồng nở, hoa hồng lại rụng.\\n Hoa tàn hoa nở cũng vô tình.\\n\"\n",
    "\n",
    "n_letter = 0\n",
    "n_space = 0\n",
    "n_num = 0\n",
    "n_remainder = 0\n",
    "\n",
    "for i in range(0, len(s1)):\n",
    "    if s1[i].isdigit():\n",
    "        n_num += 1\n",
    "    elif s1[i].isalpha():\n",
    "        n_letter += 1\n",
    "    elif s1[i].isspace():\n",
    "        n_space += 1\n",
    "    else:\n",
    "        n_remainder += 1\n",
    "       \n",
    "        \n",
    "print(n_letter)\n",
    "print(n_space)\n",
    "print(n_num)\n",
    "print(n_remainder)\n",
    "print (len(s1))\n"
   ]
  },
  {
   "cell_type": "markdown",
   "metadata": {},
   "source": [
    "TASK 5: Devide a list with a comma"
   ]
  },
  {
   "cell_type": "code",
   "execution_count": 31,
   "metadata": {},
   "outputs": [
    {
     "name": "stdout",
     "output_type": "stream",
     "text": [
      "[' Trần mỹ An', ' Phan Như Bình', ' Quỳnh Nhu', ' Hữu Trọng', ' Mỹ', ' Hoài']\n",
      "[' Trần mỹ An', ' Phan Như Bình', ' Quỳnh Nhu, Hữu Trọng, Mỹ, Hoài']\n"
     ]
    }
   ],
   "source": [
    "s_1 = \" Trần mỹ An, Phan Như Bình, Quỳnh Nhu, Hữu Trọng, Mỹ, Hoài\"\n",
    "l_1 = s_1.split(\",\")\n",
    "l_2 = s_1.split(\",\", 2)\n",
    "print(l_1)\n",
    "print(l_2)\n",
    "\n",
    "\n"
   ]
  },
  {
   "cell_type": "code",
   "execution_count": 38,
   "metadata": {},
   "outputs": [
    {
     "name": "stdout",
     "output_type": "stream",
     "text": [
      "qwerty,hello,123,456\n"
     ]
    }
   ],
   "source": [
    "l_1 = [\"qwerty\",\"hello\",123,456]\n",
    "#v = \",\".join(str(i) for i in l_1)\n",
    "v = \",\".join(str(i) for i in l_1)\n",
    "print (v)"
   ]
  },
  {
   "cell_type": "code",
   "execution_count": 40,
   "metadata": {},
   "outputs": [
    {
     "name": "stdout",
     "output_type": "stream",
     "text": [
      "John#Peter#Vicky\n",
      "nameTESTcountry\n",
      "{'name': 'John', 'country': 'Norway'}\n"
     ]
    }
   ],
   "source": [
    "myTuple = (\"John\", \"Peter\", \"Vicky\")\n",
    "\n",
    "x = \"#\".join(myTuple)\n",
    "\n",
    "print(x)\n",
    "\n",
    "myDict = {\"name\": \"John\", \"country\": \"Norway\"}\n",
    "mySeparator = \"TEST\"\n",
    "\n",
    "x = mySeparator.join(myDict)\n",
    "\n",
    "print(x)\n",
    "print(myDict)"
   ]
  },
  {
   "cell_type": "markdown",
   "metadata": {},
   "source": [
    "TASK 6:\n",
    "Create an anonymous function and to an addition"
   ]
  },
  {
   "cell_type": "code",
   "execution_count": 41,
   "metadata": {},
   "outputs": [
    {
     "name": "stdout",
     "output_type": "stream",
     "text": [
      "14\n"
     ]
    }
   ],
   "source": [
    "v_sum = lambda x,y: x+y\n",
    "print(v_sum(5,9))"
   ]
  },
  {
   "cell_type": "code",
   "execution_count": null,
   "metadata": {},
   "outputs": [],
   "source": []
  },
  {
   "cell_type": "code",
   "execution_count": null,
   "metadata": {},
   "outputs": [],
   "source": []
  }
 ],
 "metadata": {
  "kernelspec": {
   "display_name": "Python 3",
   "language": "python",
   "name": "python3"
  },
  "language_info": {
   "codemirror_mode": {
    "name": "ipython",
    "version": 3
   },
   "file_extension": ".py",
   "mimetype": "text/x-python",
   "name": "python",
   "nbconvert_exporter": "python",
   "pygments_lexer": "ipython3",
   "version": "3.8.5"
  }
 },
 "nbformat": 4,
 "nbformat_minor": 4
}
